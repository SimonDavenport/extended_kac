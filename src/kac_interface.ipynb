{
 "cells": [
  {
   "cell_type": "code",
   "execution_count": 16,
   "metadata": {
    "collapsed": false,
    "scrolled": true
   },
   "outputs": [
    {
     "name": "stdout",
     "output_type": "stream",
     "text": [
      "The autoreload extension is already loaded. To reload it, use:\n",
      "  %reload_ext autoreload\n",
      "The line_profiler extension is already loaded. To reload it, use:\n",
      "  %reload_ext line_profiler\n"
     ]
    }
   ],
   "source": [
    "## Test the interface to extended_kac\n",
    "%load_ext autoreload\n",
    "%autoreload 2\n",
    "%load_ext line_profiler\n",
    "from algebra import semisimple_lie_algebra, representations, tensor_product, embedding, test"
   ]
  },
  {
   "cell_type": "code",
   "execution_count": null,
   "metadata": {
    "collapsed": true
   },
   "outputs": [],
   "source": [
    "test.run_unit_test(message_detail=True)"
   ]
  },
  {
   "cell_type": "code",
   "execution_count": 67,
   "metadata": {
    "collapsed": false
   },
   "outputs": [
    {
     "name": "stdout",
     "output_type": "stream",
     "text": [
      "Warning: Weyl order exceeds set limit for calculations\n"
     ]
    }
   ],
   "source": [
    "algebra = semisimple_lie_algebra.build('E', 8)\n",
    "#algebra = semisimple_lie_algebra.D(3)"
   ]
  },
  {
   "cell_type": "code",
   "execution_count": 25,
   "metadata": {
    "collapsed": false
   },
   "outputs": [
    {
     "data": {
      "text/plain": [
       "{'A': algebra.semisimple_lie_algebra.A,\n",
       " 'B': algebra.semisimple_lie_algebra.B,\n",
       " 'C': algebra.semisimple_lie_algebra.C,\n",
       " 'D': algebra.semisimple_lie_algebra.D,\n",
       " 'E': algebra.semisimple_lie_algebra.E,\n",
       " 'F': algebra.semisimple_lie_algebra.F,\n",
       " 'G': algebra.semisimple_lie_algebra.G}"
      ]
     },
     "execution_count": 25,
     "metadata": {},
     "output_type": "execute_result"
    }
   ],
   "source": [
    "semisimple_lie_algebra.get_valid_algebras()"
   ]
  },
  {
   "cell_type": "code",
   "execution_count": 68,
   "metadata": {
    "collapsed": false
   },
   "outputs": [
    {
     "data": {
      "text/plain": [
       "'E(8)'"
      ]
     },
     "execution_count": 68,
     "metadata": {},
     "output_type": "execute_result"
    }
   ],
   "source": [
    "algebra.name"
   ]
  },
  {
   "cell_type": "code",
   "execution_count": 79,
   "metadata": {
    "collapsed": false,
    "scrolled": true
   },
   "outputs": [
    {
     "name": "stdout",
     "output_type": "stream",
     "text": [
      "[[ 2 -1  0  0  0  0  0  0 -1]\n",
      " [-1  2 -1  0  0  0  0  0  0]\n",
      " [ 0 -1  2 -1  0  0  0  0  0]\n",
      " [ 0  0 -1  2 -1  0  0  0  0]\n",
      " [ 0  0  0 -1  2 -1  0 -1  0]\n",
      " [ 0  0  0  0 -1  2 -1  0  0]\n",
      " [ 0  0  0  0  0 -1  2  0  0]\n",
      " [ 0  0  0  0 -1  0  0  2  0]\n",
      " [-1  0  0  0  0  0  0  0  2]]\n",
      "[2 3 4 5 6 4 2 3]\n",
      "[[ 2 -1  0  0  0  0  0  0]\n",
      " [-1  2 -1  0  0  0  0  0]\n",
      " [ 0 -1  2 -1  0  0  0  0]\n",
      " [ 0  0 -1  2 -1  0 -1  0]\n",
      " [ 0  0  0 -1  2 -1  0  0]\n",
      " [ 0  0  0  0 -1  2  0  0]\n",
      " [ 0  0  0 -1  0  0  2  0]\n",
      " [ 0  0  0  0  0  0  0  2]]\n",
      "[[ 2 -1  0  0  0  0  0]\n",
      " [-1  2 -1  0  0  0  0]\n",
      " [ 0 -1  2 -1  0  0  0]\n",
      " [ 0  0 -1  2 -1  0 -1]\n",
      " [ 0  0  0 -1  2 -1  0]\n",
      " [ 0  0  0  0 -1  2  0]\n",
      " [ 0  0  0 -1  0  0  2]]\n",
      "[[0 1 0 0 0 0 0]\n",
      " [1 0 1 0 0 0 0]\n",
      " [0 1 0 1 0 0 0]\n",
      " [0 0 1 0 1 0 1]\n",
      " [0 0 0 1 0 1 0]\n",
      " [0 0 0 0 1 0 0]\n",
      " [0 0 0 1 0 0 0]]\n",
      "[ 1.  1.  1.  1.  1.  1.]\n",
      "[[ 2 -1  0  0  0  0  0]\n",
      " [-1  2 -1  0  0  0  0]\n",
      " [ 0 -1  2 -1  0  0  0]\n",
      " [ 0  0 -1  2 -1  0 -1]\n",
      " [ 0  0  0 -1  2 -1  0]\n",
      " [ 0  0  0  0 -1  2  0]\n",
      " [ 0  0  0 -1  0  0  2]]\n",
      "[[0]]\n",
      "[]\n",
      "[None, None]\n"
     ]
    },
    {
     "ename": "AttributeError",
     "evalue": "'NoneType' object has no attribute 'name'",
     "output_type": "error",
     "traceback": [
      "\u001b[1;31m---------------------------------------------------------------------------\u001b[0m",
      "\u001b[1;31mAttributeError\u001b[0m                            Traceback (most recent call last)",
      "\u001b[1;32m<ipython-input-79-6f267b9e40e6>\u001b[0m in \u001b[0;36m<module>\u001b[1;34m()\u001b[0m\n\u001b[1;32m----> 1\u001b[1;33m \u001b[0membedding\u001b[0m\u001b[1;33m.\u001b[0m\u001b[0mregular_embeddings\u001b[0m\u001b[1;33m(\u001b[0m\u001b[0malgebra\u001b[0m\u001b[1;33m)\u001b[0m\u001b[1;33m\u001b[0m\u001b[0m\n\u001b[0m",
      "\u001b[1;32m/home/simon/physics_programs/extended_kac/extended_kac/algebra/embedding.py\u001b[0m in \u001b[0;36mregular_embeddings\u001b[1;34m(algebra, as_algebras)\u001b[0m\n\u001b[0;32m     63\u001b[0m             \u001b[0mblock_cartan\u001b[0m \u001b[1;33m=\u001b[0m \u001b[0mnp\u001b[0m\u001b[1;33m.\u001b[0m\u001b[0mdelete\u001b[0m\u001b[1;33m(\u001b[0m\u001b[0mtruncated_cartan\u001b[0m\u001b[1;33m,\u001b[0m \u001b[1;33m[\u001b[0m\u001b[0mroot1\u001b[0m\u001b[1;33m]\u001b[0m\u001b[1;33m,\u001b[0m \u001b[1;36m1\u001b[0m\u001b[1;33m)\u001b[0m\u001b[1;33m\u001b[0m\u001b[0m\n\u001b[0;32m     64\u001b[0m             \u001b[0mprint\u001b[0m\u001b[1;33m(\u001b[0m\u001b[0mblock_cartan\u001b[0m\u001b[1;33m)\u001b[0m\u001b[1;33m\u001b[0m\u001b[0m\n\u001b[1;32m---> 65\u001b[1;33m             \u001b[0mcombined_name\u001b[0m\u001b[1;33m,\u001b[0m \u001b[0malgebra_list\u001b[0m \u001b[1;33m=\u001b[0m \u001b[0m_cartan_to_algebra\u001b[0m\u001b[1;33m(\u001b[0m\u001b[0mblock_cartan\u001b[0m\u001b[1;33m)\u001b[0m\u001b[1;33m\u001b[0m\u001b[0m\n\u001b[0m\u001b[0;32m     66\u001b[0m             \u001b[0mprint\u001b[0m\u001b[1;33m(\u001b[0m\u001b[0mcombined_name\u001b[0m\u001b[1;33m)\u001b[0m\u001b[1;33m\u001b[0m\u001b[0m\n\u001b[0;32m     67\u001b[0m             \u001b[1;32mif\u001b[0m \u001b[0mcombined_name\u001b[0m \u001b[1;32mnot\u001b[0m \u001b[1;32min\u001b[0m \u001b[0membeddings\u001b[0m\u001b[1;33m.\u001b[0m\u001b[0mkeys\u001b[0m\u001b[1;33m(\u001b[0m\u001b[1;33m)\u001b[0m\u001b[1;33m:\u001b[0m\u001b[1;33m\u001b[0m\u001b[0m\n",
      "\u001b[1;32m/home/simon/physics_programs/extended_kac/extended_kac/algebra/embedding.py\u001b[0m in \u001b[0;36m_cartan_to_algebra\u001b[1;34m(A)\u001b[0m\n\u001b[0;32m     42\u001b[0m     \u001b[0mcombined_name\u001b[0m \u001b[1;33m=\u001b[0m \u001b[1;34m\"\"\u001b[0m\u001b[1;33m\u001b[0m\u001b[0m\n\u001b[0;32m     43\u001b[0m     \u001b[1;32mfor\u001b[0m \u001b[0malgebra\u001b[0m \u001b[1;32min\u001b[0m \u001b[0malgebra_list\u001b[0m\u001b[1;33m[\u001b[0m\u001b[1;33m:\u001b[0m\u001b[1;33m-\u001b[0m\u001b[1;36m1\u001b[0m\u001b[1;33m]\u001b[0m\u001b[1;33m:\u001b[0m\u001b[1;33m\u001b[0m\u001b[0m\n\u001b[1;32m---> 44\u001b[1;33m         \u001b[0mcombined_name\u001b[0m \u001b[1;33m+=\u001b[0m \u001b[0malgebra\u001b[0m\u001b[1;33m.\u001b[0m\u001b[0mname\u001b[0m \u001b[1;33m+\u001b[0m \u001b[1;34m\" \"\u001b[0m \u001b[1;33m+\u001b[0m \u001b[0m_direct_sum_char\u001b[0m \u001b[1;33m+\u001b[0m \u001b[1;34m\" \"\u001b[0m\u001b[1;33m\u001b[0m\u001b[0m\n\u001b[0m\u001b[0;32m     45\u001b[0m     \u001b[0mcombined_name\u001b[0m \u001b[1;33m+=\u001b[0m \u001b[0malgebra_list\u001b[0m\u001b[1;33m[\u001b[0m\u001b[1;33m-\u001b[0m\u001b[1;36m1\u001b[0m\u001b[1;33m]\u001b[0m\u001b[1;33m.\u001b[0m\u001b[0mname\u001b[0m\u001b[1;33m\u001b[0m\u001b[0m\n\u001b[0;32m     46\u001b[0m     \u001b[1;32mreturn\u001b[0m \u001b[0mcombined_name\u001b[0m\u001b[1;33m,\u001b[0m \u001b[0malgebra_list\u001b[0m\u001b[1;33m\u001b[0m\u001b[0m\n",
      "\u001b[1;31mAttributeError\u001b[0m: 'NoneType' object has no attribute 'name'"
     ]
    }
   ],
   "source": [
    "embedding.regular_embeddings(algebra)"
   ]
  },
  {
   "cell_type": "code",
   "execution_count": null,
   "metadata": {
    "collapsed": false
   },
   "outputs": [],
   "source": [
    "algebra.cartan_matrix"
   ]
  },
  {
   "cell_type": "code",
   "execution_count": null,
   "metadata": {
    "collapsed": false
   },
   "outputs": [],
   "source": [
    "algebra.highest_root"
   ]
  },
  {
   "cell_type": "code",
   "execution_count": null,
   "metadata": {
    "collapsed": false
   },
   "outputs": [],
   "source": [
    "algebra.quadratic_form_matrix"
   ]
  },
  {
   "cell_type": "code",
   "execution_count": null,
   "metadata": {
    "collapsed": false
   },
   "outputs": [],
   "source": [
    "algebra.rank"
   ]
  },
  {
   "cell_type": "code",
   "execution_count": null,
   "metadata": {
    "collapsed": false
   },
   "outputs": [],
   "source": [
    "algebra.dual_coxeter_number"
   ]
  },
  {
   "cell_type": "code",
   "execution_count": null,
   "metadata": {
    "collapsed": false
   },
   "outputs": [],
   "source": [
    "from algebra import roots\n",
    "sum(roots.comarks(algebra.highest_root, algebra.cartan_matrix, algebra.quadratic_form_matrix)) + 1"
   ]
  },
  {
   "cell_type": "code",
   "execution_count": null,
   "metadata": {
    "collapsed": false
   },
   "outputs": [],
   "source": [
    "algebra.weyl_order"
   ]
  },
  {
   "cell_type": "code",
   "execution_count": null,
   "metadata": {
    "collapsed": true
   },
   "outputs": [],
   "source": [
    "algebra.weyl_group"
   ]
  },
  {
   "cell_type": "code",
   "execution_count": null,
   "metadata": {
    "collapsed": false
   },
   "outputs": [],
   "source": [
    "print(algebra.dynkin_diagram)"
   ]
  },
  {
   "cell_type": "code",
   "execution_count": null,
   "metadata": {
    "collapsed": false
   },
   "outputs": [],
   "source": [
    "algebra.root_system"
   ]
  },
  {
   "cell_type": "code",
   "execution_count": null,
   "metadata": {
    "collapsed": false,
    "scrolled": true
   },
   "outputs": [],
   "source": [
    "highest_weight_state = [0, 0, 1]#[0, 1, 0]\n",
    "rep = representations.Irrep(algebra, highest_weight_state)"
   ]
  },
  {
   "cell_type": "code",
   "execution_count": null,
   "metadata": {
    "collapsed": false,
    "scrolled": true
   },
   "outputs": [],
   "source": [
    "from algebra import weyl_group\n",
    "%lprun -f weyl_group._weyl_reflection rep.weight_lattice"
   ]
  },
  {
   "cell_type": "code",
   "execution_count": null,
   "metadata": {
    "collapsed": false
   },
   "outputs": [],
   "source": [
    "rep.weight_lattice"
   ]
  },
  {
   "cell_type": "code",
   "execution_count": null,
   "metadata": {
    "collapsed": false
   },
   "outputs": [],
   "source": [
    "sum([mul for root, mul in rep.weight_lattice])"
   ]
  },
  {
   "cell_type": "code",
   "execution_count": null,
   "metadata": {
    "collapsed": false
   },
   "outputs": [],
   "source": [
    "rep.dimension"
   ]
  },
  {
   "cell_type": "code",
   "execution_count": null,
   "metadata": {
    "collapsed": false
   },
   "outputs": [],
   "source": [
    "rep.dynkin_index"
   ]
  },
  {
   "cell_type": "code",
   "execution_count": null,
   "metadata": {
    "collapsed": false,
    "scrolled": true
   },
   "outputs": [],
   "source": [
    "rep.character([1, 1, 1])"
   ]
  },
  {
   "cell_type": "code",
   "execution_count": null,
   "metadata": {
    "collapsed": false
   },
   "outputs": [],
   "source": [
    "algebra1 = semisimple_lie_algebra.A(3)\n",
    "rep1 = representations.Irrep(algebra1, [1, 2, 4])\n",
    "rep2 = representations.Irrep(algebra1, [1, 7, 13])"
   ]
  },
  {
   "cell_type": "code",
   "execution_count": null,
   "metadata": {
    "collapsed": false,
    "scrolled": true
   },
   "outputs": [],
   "source": [
    "print(rep1.dimension)\n",
    "print(rep2.dimension)"
   ]
  },
  {
   "cell_type": "code",
   "execution_count": null,
   "metadata": {
    "collapsed": true
   },
   "outputs": [],
   "source": [
    "tensor_product.compute_decomposition(rep1, rep2, as_irreps=True)"
   ]
  },
  {
   "cell_type": "code",
   "execution_count": 42,
   "metadata": {
    "collapsed": false
   },
   "outputs": [
    {
     "data": {
      "text/plain": [
       "'⨁'"
      ]
     },
     "execution_count": 42,
     "metadata": {},
     "output_type": "execute_result"
    }
   ],
   "source": [
    "chr(10753)"
   ]
  },
  {
   "cell_type": "code",
   "execution_count": null,
   "metadata": {
    "collapsed": true
   },
   "outputs": [],
   "source": [
    "import lie_algebra.cartan\n",
    "import lie_algebra.roots\n",
    "import numpy as np\n",
    "imp.reload(lie_algebra.cartan)\n",
    "ect = lie_algebra.cartan.extend_matrix(-algebra.highest_root, algebra.cartan_matrix, algebra.quadratic_form_matrix)\n",
    "lie_algebra.roots.marks(algebra.highest_root, algebra.cartan_matrix)\n",
    "#np.dot(lie_algebra.roots.comarks(algebra.highest_root, algebra.cartan_matrix, algebra.quadratic_form_matrix), algebra.highest_root)"
   ]
  }
 ],
 "metadata": {
  "kernelspec": {
   "display_name": "Python 3",
   "language": "python",
   "name": "python3"
  }
 },
 "nbformat": 4,
 "nbformat_minor": 0
}
